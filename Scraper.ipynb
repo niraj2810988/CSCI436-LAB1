{
 "cells": [
  {
   "cell_type": "code",
   "execution_count": 65,
   "id": "a13935ef",
   "metadata": {},
   "outputs": [],
   "source": [
    "from bs4 import BeautifulSoup\n",
    "import requests\n",
    "\n",
    "def extract_faculty_data(url):\n",
    "    response = requests.get(url)\n",
    "    soup = BeautifulSoup(response.text, 'html.parser')\n",
    "\n",
    "    faculty_data = []\n",
    "\n",
    "    faculty_elements = soup.select('#block-csula-content article div div div table tbody tr td p strong a')\n",
    "    for faculty_element in faculty_elements:\n",
    "        faculty_url = 'https://www.calstatela.edu' + faculty_element['href']\n",
    "\n",
    "        # Visit the faculty's profile page to extract bio and courses taught\n",
    "        faculty_response = requests.get(faculty_url)\n",
    "        faculty_soup = BeautifulSoup(faculty_response.text, 'html.parser')\n",
    "\n",
    "        # Extract bio\n",
    "        bio_element = faculty_soup.select_one('#block-csula-content article div div p')\n",
    "        bio = bio_element.get_text(strip=True) if bio_element else \"N/A\"\n",
    "\n",
    "        # Extract courses taught\n",
    "        courses_element = faculty_soup.select_one('#block-csula-content article div div div ul:nth-child(6)')\n",
    "        courses_taught = courses_element.get_text(strip=True) if courses_element else \"N/A\"\n",
    "\n",
    "        faculty_data.append({\n",
    "            'faculty_url': faculty_url,\n",
    "            'bio': bio,\n",
    "            'courses_taught': courses_taught\n",
    "        })\n",
    "\n",
    "    return faculty_data\n",
    "\n",
    "def write_to_file(file_name, data, data_type):\n",
    "    with open(file_name, 'w', encoding='utf-8') as file:\n",
    "        for faculty in data:\n",
    "            if data_type == 'profile_url':\n",
    "                file.write(f\"Faculty URL: {faculty['faculty_url']}\\n\")\n",
    "            elif data_type == 'bios':\n",
    "                file.write(f\"Bio: {faculty.get('bio', 'N/A')}\\n\")\n",
    "            elif data_type == 'courses_taught':\n",
    "                file.write(f\"Courses Taught: {faculty.get('courses_taught', 'N/A')}\\n\")\n",
    "            file.write('\\n')\n",
    "\n",
    "if __name__ == '__main__':\n",
    "    url = 'https://www.calstatela.edu/ecst/cs/faculty'\n",
    "    faculty_data = extract_faculty_data(url)\n",
    "\n",
    "    # Save faculty profile URLs in a separate file\n",
    "    write_to_file('profile_urls.txt', faculty_data, data_type='profile_url')\n",
    "\n",
    "    # Save faculty bios in a separate file\n",
    "    write_to_file('bios.txt', faculty_data, data_type='bios')\n",
    "\n",
    "    # Save courses taught in a separate file\n",
    "    write_to_file('courses_taught.txt', faculty_data, data_type='courses_taught')"
   ]
  },
  {
   "cell_type": "code",
   "execution_count": null,
   "id": "b21dc61e",
   "metadata": {},
   "outputs": [],
   "source": []
  },
  {
   "cell_type": "code",
   "execution_count": null,
   "id": "3bb27b6b",
   "metadata": {},
   "outputs": [],
   "source": []
  }
 ],
 "metadata": {
  "kernelspec": {
   "display_name": "Python 3 (ipykernel)",
   "language": "python",
   "name": "python3"
  },
  "language_info": {
   "codemirror_mode": {
    "name": "ipython",
    "version": 3
   },
   "file_extension": ".py",
   "mimetype": "text/x-python",
   "name": "python",
   "nbconvert_exporter": "python",
   "pygments_lexer": "ipython3",
   "version": "3.9.13"
  }
 },
 "nbformat": 4,
 "nbformat_minor": 5
}
