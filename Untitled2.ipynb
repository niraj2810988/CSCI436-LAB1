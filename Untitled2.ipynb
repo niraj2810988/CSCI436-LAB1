{
  "nbformat": 4,
  "nbformat_minor": 0,
  "metadata": {
    "colab": {
      "provenance": []
    },
    "kernelspec": {
      "name": "python3",
      "display_name": "Python 3"
    },
    "language_info": {
      "name": "python"
    }
  },
  "cells": [
    {
      "cell_type": "code",
      "execution_count": 1,
      "metadata": {
        "colab": {
          "base_uri": "https://localhost:8080/"
        },
        "id": "dEkU_n8JQo25",
        "outputId": "86657e98-cdae-429b-caeb-83d3fb035244"
      },
      "outputs": [
        {
          "output_type": "stream",
          "name": "stdout",
          "text": [
            "Requirement already satisfied: requests in /usr/local/lib/python3.10/dist-packages (2.27.1)\n",
            "Requirement already satisfied: beautifulsoup4 in /usr/local/lib/python3.10/dist-packages (4.11.2)\n",
            "Requirement already satisfied: urllib3<1.27,>=1.21.1 in /usr/local/lib/python3.10/dist-packages (from requests) (1.26.16)\n",
            "Requirement already satisfied: certifi>=2017.4.17 in /usr/local/lib/python3.10/dist-packages (from requests) (2023.7.22)\n",
            "Requirement already satisfied: charset-normalizer~=2.0.0 in /usr/local/lib/python3.10/dist-packages (from requests) (2.0.12)\n",
            "Requirement already satisfied: idna<4,>=2.5 in /usr/local/lib/python3.10/dist-packages (from requests) (3.4)\n",
            "Requirement already satisfied: soupsieve>1.2 in /usr/local/lib/python3.10/dist-packages (from beautifulsoup4) (2.4.1)\n"
          ]
        }
      ],
      "source": [
        "pip install requests beautifulsoup4\n"
      ]
    },
    {
      "cell_type": "code",
      "source": [
        "import requests\n",
        "from bs4 import BeautifulSoup\n",
        "\n",
        "def scrape_faculty_urls(url):\n",
        "    try:\n",
        "        response = requests.get(url)\n",
        "        if response.status_code == 200:\n",
        "            soup = BeautifulSoup(response.content, 'html.parser')\n",
        "            faculty_data = []\n",
        "\n",
        "            # Use the provided XPath expression to find faculty URLs\n",
        "            faculty_links = soup.select('#block-csula-content article div div div table tbody tr td p strong a')\n",
        "            for faculty_link in faculty_links:\n",
        "                faculty_name = faculty_link.text.strip()\n",
        "                faculty_url = faculty_link['href']\n",
        "                faculty_data.append((faculty_name, faculty_url))\n",
        "\n",
        "            return faculty_data\n",
        "        else:\n",
        "            print(f\"Failed to retrieve data. Status Code: {response.status_code}\")\n",
        "            return []\n",
        "    except Exception as e:\n",
        "        print(f\"An error occurred: {e}\")\n",
        "        return []\n",
        "\n",
        "if __name__ == \"__main__\":\n",
        "    base_url = \"https://www.calstatela.edu\"\n",
        "    faculty_list_url = f\"{base_url}/ecst/cs/faculty\"\n",
        "    faculty_data = scrape_faculty_urls(faculty_list_url)\n",
        "\n",
        "    with open(\"bio_url.txt\", \"w\", encoding=\"utf-8\") as file:\n",
        "        for index, (name, url) in enumerate(faculty_data, 1):\n",
        "            file.write(f\"Faculty {index} URL: {base_url}{url}\\n\")\n",
        "            file.write(\"\\n\")\n",
        "\n",
        "    print(\"Faculty names and URLs saved to bio_url.txt.\")\n"
      ],
      "metadata": {
        "colab": {
          "base_uri": "https://localhost:8080/"
        },
        "id": "7bl3hnk1Qt6a",
        "outputId": "4f6a7d97-24a0-4ca7-d85b-fe0b20481bb9"
      },
      "execution_count": 29,
      "outputs": [
        {
          "output_type": "stream",
          "name": "stdout",
          "text": [
            "Faculty names and URLs saved to bio_url.txt.\n"
          ]
        }
      ]
    },
    {
      "cell_type": "code",
      "source": [
        "import requests\n",
        "from bs4 import BeautifulSoup\n",
        "\n",
        "def scrape_faculty_info(url, xpath):\n",
        "    try:\n",
        "        response = requests.get(url)\n",
        "        if response.status_code == 200:\n",
        "            soup = BeautifulSoup(response.content, 'html.parser')\n",
        "            faculty_info = soup.select_one(xpath)\n",
        "            return faculty_info\n",
        "        else:\n",
        "            print(f\"Failed to retrieve data. Status Code: {response.status_code}\")\n",
        "            return None\n",
        "    except Exception as e:\n",
        "        print(f\"An error occurred: {e}\")\n",
        "        return None\n",
        "\n",
        "if __name__ == \"__main__\":\n",
        "    base_url = \"https://www.calstatela.edu\"\n",
        "\n",
        "    # Read the faculty URLs from bio_url.txt\n",
        "    with open(\"bio_url.txt\", \"r\", encoding=\"utf-8\") as file:\n",
        "        faculty_urls = [line.strip().split(\"URL: \")[1] for line in file if line.startswith(\"Faculty\")]\n",
        "\n",
        "    for index, faculty_url in enumerate(faculty_urls, 1):\n",
        "        faculty_info_url = f\"{base_url}{faculty_url}\"\n",
        "\n",
        "        # Scrape faculty information using the provided XPath\n",
        "        faculty_info_xpath = '#block-csula-content article div div'\n",
        "        faculty_info = scrape_faculty_info(faculty_info_url, faculty_info_xpath)\n",
        "\n",
        "        if faculty_info:\n",
        "            filename = f\"faculty_info_{index}.txt\"\n",
        "            with open(filename, \"w\", encoding=\"utf-8\") as info_file:\n",
        "                info_file.write(f\"Faculty URL: {faculty_info_url}\\n\")\n",
        "                info_file.write(\"Faculty Information:\\n\")\n",
        "                info_file.write(str(faculty_info))\n",
        "                info_file.write(\"\\n\")\n",
        "\n",
        "    print(\"Faculty information saved to individual files.\")\n"
      ],
      "metadata": {
        "colab": {
          "base_uri": "https://localhost:8080/"
        },
        "id": "rohASWflWJ1t",
        "outputId": "d686a6de-de90-4a35-88f9-09de248315ca"
      },
      "execution_count": 33,
      "outputs": [
        {
          "output_type": "stream",
          "name": "stdout",
          "text": [
            "An error occurred: HTTPSConnectionPool(host='www.calstatela.eduhttps', port=443): Max retries exceeded with url: //www.calstatela.edu/faculty/elaine-kang (Caused by NewConnectionError('<urllib3.connection.HTTPSConnection object at 0x7822d0681d80>: Failed to establish a new connection: [Errno -2] Name or service not known'))\n",
            "An error occurred: HTTPSConnectionPool(host='www.calstatela.eduhttps', port=443): Max retries exceeded with url: //www.calstatela.edu/faculty/chengyu-sun (Caused by NewConnectionError('<urllib3.connection.HTTPSConnection object at 0x7822d0681150>: Failed to establish a new connection: [Errno -2] Name or service not known'))\n",
            "An error occurred: HTTPSConnectionPool(host='www.calstatela.eduhttps', port=443): Max retries exceeded with url: //www.calstatela.edu/faculty/navid-amini (Caused by NewConnectionError('<urllib3.connection.HTTPSConnection object at 0x7822d0681000>: Failed to establish a new connection: [Errno -2] Name or service not known'))\n",
            "An error occurred: HTTPSConnectionPool(host='www.calstatela.eduhttps', port=443): Max retries exceeded with url: //www.calstatela.edu/faculty/negin-forouzesh (Caused by NewConnectionError('<urllib3.connection.HTTPSConnection object at 0x7822d0680df0>: Failed to establish a new connection: [Errno -2] Name or service not known'))\n",
            "An error occurred: HTTPSConnectionPool(host='www.calstatela.eduhttps', port=443): Max retries exceeded with url: //www.calstatela.edu/faculty/huiping-guo (Caused by NewConnectionError('<urllib3.connection.HTTPSConnection object at 0x7822d0680a60>: Failed to establish a new connection: [Errno -2] Name or service not known'))\n",
            "An error occurred: HTTPSConnectionPool(host='www.calstatela.eduhttps', port=443): Max retries exceeded with url: //www.calstatela.edu/faculty/jiang-guo (Caused by NewConnectionError('<urllib3.connection.HTTPSConnection object at 0x7822d0681330>: Failed to establish a new connection: [Errno -2] Name or service not known'))\n",
            "An error occurred: HTTPSConnectionPool(host='www.calstatela.eduhttps', port=443): Max retries exceeded with url: //www.calstatela.edu/faculty/manveen-kaur (Caused by NewConnectionError('<urllib3.connection.HTTPSConnection object at 0x7822d0682410>: Failed to establish a new connection: [Errno -2] Name or service not known'))\n",
            "An error occurred: HTTPSConnectionPool(host='www.calstatela.eduhttps', port=443): Max retries exceeded with url: //www.calstatela.edu/faculty/david-krum (Caused by NewConnectionError('<urllib3.connection.HTTPSConnection object at 0x7822d06812d0>: Failed to establish a new connection: [Errno -2] Name or service not known'))\n",
            "An error occurred: HTTPSConnectionPool(host='www.calstatela.eduhttps', port=443): Max retries exceeded with url: //www.calstatela.edu/faculty/jung-lim (Caused by NewConnectionError('<urllib3.connection.HTTPSConnection object at 0x7822d06828c0>: Failed to establish a new connection: [Errno -2] Name or service not known'))\n",
            "An error occurred: HTTPSConnectionPool(host='www.calstatela.eduhttps', port=443): Max retries exceeded with url: //www.calstatela.edu/faculty/behzad-parviz (Caused by NewConnectionError('<urllib3.connection.HTTPSConnection object at 0x7822d0682d40>: Failed to establish a new connection: [Errno -2] Name or service not known'))\n",
            "An error occurred: HTTPSConnectionPool(host='www.calstatela.eduhttps', port=443): Max retries exceeded with url: //www.calstatela.edu/faculty/mohammad-pourhomayoun (Caused by NewConnectionError('<urllib3.connection.HTTPSConnection object at 0x7822d0681330>: Failed to establish a new connection: [Errno -2] Name or service not known'))\n",
            "An error occurred: HTTPSConnectionPool(host='www.calstatela.eduhttps', port=443): Max retries exceeded with url: //www.calstatela.edu/faculty/yuqing-zhu (Caused by NewConnectionError('<urllib3.connection.HTTPSConnection object at 0x7822d0681690>: Failed to establish a new connection: [Errno -2] Name or service not known'))\n",
            "An error occurred: HTTPSConnectionPool(host='www.calstatela.eduhttps', port=443): Max retries exceeded with url: //www.calstatela.edu/faculty/vladimir-akis (Caused by NewConnectionError('<urllib3.connection.HTTPSConnection object at 0x7822d0681d80>: Failed to establish a new connection: [Errno -2] Name or service not known'))\n",
            "An error occurred: HTTPSConnectionPool(host='www.calstatela.eduhttps', port=443): Max retries exceeded with url: //www.calstatela.edu/faculty/raj-pamula (Caused by NewConnectionError('<urllib3.connection.HTTPSConnection object at 0x7822d0680df0>: Failed to establish a new connection: [Errno -2] Name or service not known'))\n",
            "Faculty information saved to individual files.\n"
          ]
        }
      ]
    },
    {
      "cell_type": "markdown",
      "source": [
        "# New Section"
      ],
      "metadata": {
        "id": "jE3PSl-ZY_Qc"
      }
    }
  ]
}